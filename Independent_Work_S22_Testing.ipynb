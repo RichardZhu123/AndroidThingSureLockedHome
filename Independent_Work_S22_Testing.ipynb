{
  "cells": [
    {
      "cell_type": "markdown",
      "metadata": {
        "id": "view-in-github",
        "colab_type": "text"
      },
      "source": [
        "<a href=\"https://colab.research.google.com/github/RichardZhu123/AndroidThingSureLockedHome/blob/master/Independent_Work_S22_Testing.ipynb\" target=\"_parent\"><img src=\"https://colab.research.google.com/assets/colab-badge.svg\" alt=\"Open In Colab\"/></a>"
      ]
    },
    {
      "cell_type": "markdown",
      "metadata": {
        "id": "kgf1Ih3KQH5_"
      },
      "source": [
        "# 1. Imports and Setup"
      ]
    },
    {
      "cell_type": "code",
      "execution_count": 2,
      "metadata": {
        "id": "HvdDVzE_xzmt"
      },
      "outputs": [],
      "source": [
        "import math\n",
        "import matplotlib.pyplot as plt\n",
        "import numpy as np\n",
        "import pandas as pd\n",
        "from torch.nn.utils.rnn import PackedSequence\n",
        "import seaborn as sns\n",
        "from sklearn.metrics import confusion_matrix\n",
        "\n",
        "import torch\n",
        "from torch import nn\n",
        "from tqdm import tqdm"
      ]
    },
    {
      "cell_type": "code",
      "execution_count": 3,
      "metadata": {
        "colab": {
          "base_uri": "https://localhost:8080/"
        },
        "id": "IpW4xbV6KFug",
        "outputId": "b3745421-fa3b-40af-f126-5b34dc8cd376"
      },
      "outputs": [
        {
          "output_type": "stream",
          "name": "stdout",
          "text": [
            "Drive already mounted at /content/drive; to attempt to forcibly remount, call drive.mount(\"/content/drive\", force_remount=True).\n"
          ]
        }
      ],
      "source": [
        "from google.colab import drive\n",
        "drive.mount('/content/drive')"
      ]
    },
    {
      "cell_type": "code",
      "execution_count": 4,
      "metadata": {
        "colab": {
          "base_uri": "https://localhost:8080/"
        },
        "id": "Jm6hsv_tAWkz",
        "outputId": "f61df3d8-f15b-4d2e-8bc6-2bcadc3e1dea"
      },
      "outputs": [
        {
          "output_type": "stream",
          "name": "stdout",
          "text": [
            "Using GPU\n"
          ]
        }
      ],
      "source": [
        "is_cuda = torch.cuda.is_available()\n",
        "\n",
        "if is_cuda:\n",
        "  device = torch.device(\"cuda\")\n",
        "  print(\"Using GPU\")\n",
        "else:\n",
        "  device = torch.device(\"cpu\")\n",
        "  print(\"Using CPU\")"
      ]
    },
    {
      "cell_type": "markdown",
      "metadata": {
        "id": "inal_lOZQR_j"
      },
      "source": [
        "# 2. Importing and Pre-Processing Data"
      ]
    },
    {
      "cell_type": "code",
      "execution_count": 5,
      "metadata": {
        "id": "CUzRUlSI1W4J",
        "colab": {
          "base_uri": "https://localhost:8080/",
          "height": 237
        },
        "outputId": "a36be038-5670-490a-8ec7-4b2ec5baf6cf"
      },
      "outputs": [
        {
          "output_type": "execute_result",
          "data": {
            "text/plain": [
              "                                             quizzes  \\\n",
              "0  0043002090050090010700600430060020871900074000...   \n",
              "1  0401000501070039605200080000000000170009068008...   \n",
              "2  6001203840084590720000060050002640300700800069...   \n",
              "3  4972000001004000050000160986203000403009000000...   \n",
              "4  0059103080094030600275001000300002010008200070...   \n",
              "\n",
              "                                           solutions  \n",
              "0  8643712593258497619712658434361925871986574322...  \n",
              "1  3461792581875239645296483719658324174729168358...  \n",
              "2  6951273841384596727248369158512647392739815469...  \n",
              "3  4972583161864397252537164986293815473759641828...  \n",
              "4  4659123781894735623275681497386452919548216372...  "
            ],
            "text/html": [
              "\n",
              "  <div id=\"df-aadca8a0-5bba-47f0-a240-71379a407d49\">\n",
              "    <div class=\"colab-df-container\">\n",
              "      <div>\n",
              "<style scoped>\n",
              "    .dataframe tbody tr th:only-of-type {\n",
              "        vertical-align: middle;\n",
              "    }\n",
              "\n",
              "    .dataframe tbody tr th {\n",
              "        vertical-align: top;\n",
              "    }\n",
              "\n",
              "    .dataframe thead th {\n",
              "        text-align: right;\n",
              "    }\n",
              "</style>\n",
              "<table border=\"1\" class=\"dataframe\">\n",
              "  <thead>\n",
              "    <tr style=\"text-align: right;\">\n",
              "      <th></th>\n",
              "      <th>quizzes</th>\n",
              "      <th>solutions</th>\n",
              "    </tr>\n",
              "  </thead>\n",
              "  <tbody>\n",
              "    <tr>\n",
              "      <th>0</th>\n",
              "      <td>0043002090050090010700600430060020871900074000...</td>\n",
              "      <td>8643712593258497619712658434361925871986574322...</td>\n",
              "    </tr>\n",
              "    <tr>\n",
              "      <th>1</th>\n",
              "      <td>0401000501070039605200080000000000170009068008...</td>\n",
              "      <td>3461792581875239645296483719658324174729168358...</td>\n",
              "    </tr>\n",
              "    <tr>\n",
              "      <th>2</th>\n",
              "      <td>6001203840084590720000060050002640300700800069...</td>\n",
              "      <td>6951273841384596727248369158512647392739815469...</td>\n",
              "    </tr>\n",
              "    <tr>\n",
              "      <th>3</th>\n",
              "      <td>4972000001004000050000160986203000403009000000...</td>\n",
              "      <td>4972583161864397252537164986293815473759641828...</td>\n",
              "    </tr>\n",
              "    <tr>\n",
              "      <th>4</th>\n",
              "      <td>0059103080094030600275001000300002010008200070...</td>\n",
              "      <td>4659123781894735623275681497386452919548216372...</td>\n",
              "    </tr>\n",
              "  </tbody>\n",
              "</table>\n",
              "</div>\n",
              "      <button class=\"colab-df-convert\" onclick=\"convertToInteractive('df-aadca8a0-5bba-47f0-a240-71379a407d49')\"\n",
              "              title=\"Convert this dataframe to an interactive table.\"\n",
              "              style=\"display:none;\">\n",
              "        \n",
              "  <svg xmlns=\"http://www.w3.org/2000/svg\" height=\"24px\"viewBox=\"0 0 24 24\"\n",
              "       width=\"24px\">\n",
              "    <path d=\"M0 0h24v24H0V0z\" fill=\"none\"/>\n",
              "    <path d=\"M18.56 5.44l.94 2.06.94-2.06 2.06-.94-2.06-.94-.94-2.06-.94 2.06-2.06.94zm-11 1L8.5 8.5l.94-2.06 2.06-.94-2.06-.94L8.5 2.5l-.94 2.06-2.06.94zm10 10l.94 2.06.94-2.06 2.06-.94-2.06-.94-.94-2.06-.94 2.06-2.06.94z\"/><path d=\"M17.41 7.96l-1.37-1.37c-.4-.4-.92-.59-1.43-.59-.52 0-1.04.2-1.43.59L10.3 9.45l-7.72 7.72c-.78.78-.78 2.05 0 2.83L4 21.41c.39.39.9.59 1.41.59.51 0 1.02-.2 1.41-.59l7.78-7.78 2.81-2.81c.8-.78.8-2.07 0-2.86zM5.41 20L4 18.59l7.72-7.72 1.47 1.35L5.41 20z\"/>\n",
              "  </svg>\n",
              "      </button>\n",
              "      \n",
              "  <style>\n",
              "    .colab-df-container {\n",
              "      display:flex;\n",
              "      flex-wrap:wrap;\n",
              "      gap: 12px;\n",
              "    }\n",
              "\n",
              "    .colab-df-convert {\n",
              "      background-color: #E8F0FE;\n",
              "      border: none;\n",
              "      border-radius: 50%;\n",
              "      cursor: pointer;\n",
              "      display: none;\n",
              "      fill: #1967D2;\n",
              "      height: 32px;\n",
              "      padding: 0 0 0 0;\n",
              "      width: 32px;\n",
              "    }\n",
              "\n",
              "    .colab-df-convert:hover {\n",
              "      background-color: #E2EBFA;\n",
              "      box-shadow: 0px 1px 2px rgba(60, 64, 67, 0.3), 0px 1px 3px 1px rgba(60, 64, 67, 0.15);\n",
              "      fill: #174EA6;\n",
              "    }\n",
              "\n",
              "    [theme=dark] .colab-df-convert {\n",
              "      background-color: #3B4455;\n",
              "      fill: #D2E3FC;\n",
              "    }\n",
              "\n",
              "    [theme=dark] .colab-df-convert:hover {\n",
              "      background-color: #434B5C;\n",
              "      box-shadow: 0px 1px 3px 1px rgba(0, 0, 0, 0.15);\n",
              "      filter: drop-shadow(0px 1px 2px rgba(0, 0, 0, 0.3));\n",
              "      fill: #FFFFFF;\n",
              "    }\n",
              "  </style>\n",
              "\n",
              "      <script>\n",
              "        const buttonEl =\n",
              "          document.querySelector('#df-aadca8a0-5bba-47f0-a240-71379a407d49 button.colab-df-convert');\n",
              "        buttonEl.style.display =\n",
              "          google.colab.kernel.accessAllowed ? 'block' : 'none';\n",
              "\n",
              "        async function convertToInteractive(key) {\n",
              "          const element = document.querySelector('#df-aadca8a0-5bba-47f0-a240-71379a407d49');\n",
              "          const dataTable =\n",
              "            await google.colab.kernel.invokeFunction('convertToInteractive',\n",
              "                                                     [key], {});\n",
              "          if (!dataTable) return;\n",
              "\n",
              "          const docLinkHtml = 'Like what you see? Visit the ' +\n",
              "            '<a target=\"_blank\" href=https://colab.research.google.com/notebooks/data_table.ipynb>data table notebook</a>'\n",
              "            + ' to learn more about interactive tables.';\n",
              "          element.innerHTML = '';\n",
              "          dataTable['output_type'] = 'display_data';\n",
              "          await google.colab.output.renderOutput(dataTable, element);\n",
              "          const docLink = document.createElement('div');\n",
              "          docLink.innerHTML = docLinkHtml;\n",
              "          element.appendChild(docLink);\n",
              "        }\n",
              "      </script>\n",
              "    </div>\n",
              "  </div>\n",
              "  "
            ]
          },
          "metadata": {},
          "execution_count": 5
        }
      ],
      "source": [
        "# import data\n",
        "sudoku_df = pd.read_csv('/content/drive/My Drive/Independent Work/sudoku.csv')\n",
        "sudoku_df.head()"
      ]
    },
    {
      "cell_type": "code",
      "execution_count": 6,
      "metadata": {
        "id": "OGij6yefD23X"
      },
      "outputs": [],
      "source": [
        "n = len(sudoku_df.index) # Total number of examples in dataset\n",
        "train_x = [[int(c) for c in s] for s in sudoku_df.loc[:0.01*n, \"quizzes\"].to_numpy()]\n",
        "dev_x = [[int(c) for c in s] for s in sudoku_df.loc[0.94*n:0.95*n, \"quizzes\"].to_numpy()]\n",
        "test_x = [[int(c) for c in s] for s in sudoku_df.loc[0.99*n:, \"quizzes\"].to_numpy()]\n",
        "\n",
        "train_y = [[int(c) for c in s] for s in sudoku_df.loc[:0.01*n, \"solutions\"].to_numpy()]\n",
        "dev_y = [[int(c) for c in s] for s in sudoku_df.loc[0.94*n:0.95*n, \"solutions\"].to_numpy()]\n",
        "test_y = [[int(c) for c in s] for s in sudoku_df.loc[0.99*n:, \"solutions\"].to_numpy()]"
      ]
    },
    {
      "cell_type": "code",
      "execution_count": 7,
      "metadata": {
        "id": "5MRYhOTzIrxo"
      },
      "outputs": [],
      "source": [
        "v = 10 # vocab size of values from 0 - 9\n",
        "puz_dim = 81 # dimension of puzzle, in this case there are 81 cells in a 9x9 grid\n",
        "\n",
        "# seq is sequence, v is vocab/dict size, puz_dim is dimension of puzzle (81 for 9x9)\n",
        "# and batch_size is the size of each batch\n",
        "def one_hot_encode(seq, v, puz_dim, batch_size=256):\n",
        "  features = np.zeros((len(seq), puz_dim, v), dtype=np.int32)\n",
        "\n",
        "  for i in range(len(seq)):\n",
        "    for j in range(puz_dim):\n",
        "      features[i, j, seq[i][j]] = 1\n",
        "  features = torch.Tensor(features)\n",
        "  return torch.split(features, batch_size)\n",
        "\n",
        "# turn the sequence into a batched input with batch size bt_sz\n",
        "def batch(input, bt_sz):\n",
        "  l = len(input)\n",
        "  ft_batched = np.zeros(bt_sz)\n",
        "  for i in range(0, l, bt_sz):\n",
        "    ft_batched = input[i:min(i+bt_sz, l)]\n",
        "  return ft_batched\n"
      ]
    },
    {
      "cell_type": "code",
      "execution_count": 8,
      "metadata": {
        "id": "7XDwJVVIL3Cy"
      },
      "outputs": [],
      "source": [
        "# encode train set\n",
        "batch_size = 256\n",
        "tx_seq = one_hot_encode(train_x, v, puz_dim, batch_size)\n",
        "\n",
        "# train_x and train_y in sequence form\n",
        "ty_seq = torch.split(torch.Tensor(train_y), batch_size)"
      ]
    },
    {
      "cell_type": "markdown",
      "metadata": {
        "id": "KII-e9eOQDxu"
      },
      "source": [
        "# 3a. Training the Vanilla RNN"
      ]
    },
    {
      "cell_type": "code",
      "execution_count": null,
      "metadata": {
        "id": "3m6rn1db3ds3"
      },
      "outputs": [],
      "source": [
        "class RNNModel(nn.Module):\n",
        "  # bi - bidirectional, false by default\n",
        "  def __init__(self, input_size, output_size, hidden_dim, n_layers, bi=False):\n",
        "    super(RNNModel, self).__init__()\n",
        "\n",
        "    self.hidden_dim = hidden_dim\n",
        "    self.n_layers = n_layers\n",
        "    self.output_size = output_size\n",
        "    self.d = 2 if bi else 1\n",
        "\n",
        "    self.rnn = nn.RNN(input_size, hidden_dim, n_layers, batch_first=True, bidirectional=bi)\n",
        "    self.fc = nn.Linear(self.d*hidden_dim, output_size)\n",
        "\n",
        "  def forward(self, x):\n",
        "    batch_size = x.size(0)\n",
        "    hidden = torch.randn(self.d*self.n_layers, batch_size, self.hidden_dim)\n",
        "    hidden = hidden.to(device)\n",
        "    out, hidden = self.rnn(x, hidden)\n",
        "    out = self.fc(out)\n",
        "    out = torch.transpose(out, 1, 2)\n",
        "\n",
        "    # out = out.contiguous().view(-1, self.hidden_dim)\n",
        "    # out = self.fc(out)\n",
        "\n",
        "    return out, hidden\n",
        "\n",
        "# returns list of prediction. puz_seq is a tensor of the puzzle (eg. 1x81 for a 9x9 puzzle)\n",
        "def predict(model, puz_seq):\n",
        "    out, _ = model(puz_seq)\n",
        "    out = torch.nn.functional.softmax(out, dim=1)\n",
        "    _, out = out.max(dim=1)\n",
        "    return out"
      ]
    },
    {
      "cell_type": "code",
      "execution_count": null,
      "metadata": {
        "id": "BQfnQ3wQH8nx"
      },
      "outputs": [],
      "source": [
        "# Init model\n",
        "rnnModel = RNNModel(input_size=v, output_size=v, hidden_dim=100, n_layers=2, bi=True).to(device)\n",
        "if is_cuda:\n",
        "  print(\"Using GPU\")\n",
        "else:\n",
        "  print(\"Using CPU\")\n",
        "\n",
        "# Hyperparameters\n",
        "n_epochs = 50\n",
        "lr = 0.01 # initial learning rate. learning rate decreases by exp decay\n",
        "decay_rate = 0.997\n",
        "\n",
        "# Loss and optimizer\n",
        "criterion = nn.CrossEntropyLoss()\n",
        "optimizer = torch.optim.Adam(rnnModel.parameters(), lr=lr)\n",
        "\n",
        "# Scheduler facilitates exponential decay of learning rate over epochs\n",
        "lr_sched = torch.optim.lr_scheduler.ExponentialLR(optimizer, decay_rate)"
      ]
    },
    {
      "cell_type": "code",
      "execution_count": null,
      "metadata": {
        "id": "4fAPqy1pSOxr"
      },
      "outputs": [],
      "source": [
        "# Begin training\n",
        "losses = []\n",
        "for epoch in range(1, n_epochs + 1):\n",
        "  for tx_bat, ty_bat in zip(tx_seq, ty_seq):\n",
        "    tx_bat = tx_bat.to(device)\n",
        "    ty_bat = ty_bat.to(device)\n",
        "    optimizer.zero_grad()\n",
        "    output, hidden = rnnModel(tx_bat)\n",
        "    #loss = criterion(output, ty_seq.view(-1).long())\n",
        "    loss = criterion(output, ty_bat.long())\n",
        "    loss.backward()\n",
        "    optimizer.step()\n",
        "    lr_sched.step()\n",
        "\n",
        "  losses.append(loss.item())\n",
        "  if epoch % 10 == 0: \n",
        "    print(\"Epoch: {}/{}..........\".format(epoch, n_epochs))\n",
        "    #print(\"Learning Rate:\", lr_sched.get_last_lr())\n",
        "    print(\"Loss: {:.4f}\".format(loss.item()))"
      ]
    },
    {
      "cell_type": "code",
      "execution_count": null,
      "metadata": {
        "id": "_psF2dbiOKYN"
      },
      "outputs": [],
      "source": [
        "plt.plot(range(1, n_epochs + 1), losses)\n",
        "plt.title(\"Bidirectional RNN Train Loss\")\n",
        "plt.xlabel(\"Epoch\")\n",
        "plt.ylabel(\"Cross Entropy Loss\")"
      ]
    },
    {
      "cell_type": "markdown",
      "metadata": {
        "id": "fa4aYUrbWS3n"
      },
      "source": [
        "# 3b. Training the Long Short-Term Memory Model"
      ]
    },
    {
      "cell_type": "code",
      "execution_count": 9,
      "metadata": {
        "id": "90qcW_wwRN1X"
      },
      "outputs": [],
      "source": [
        "class LSTMModel(nn.Module):\n",
        "  # bi - bidirectional, false by default\n",
        "  def __init__(self, input_size, output_size, hidden_dim, n_layers, bi=False):\n",
        "    super(LSTMModel, self).__init__()\n",
        "\n",
        "    self.hidden_dim = hidden_dim\n",
        "    self.n_layers = n_layers\n",
        "    self.output_size = output_size\n",
        "    self.d = 2 if bi else 1\n",
        "\n",
        "    self.lstm = nn.LSTM(input_size, hidden_dim, n_layers, batch_first=True, bidirectional=bi)\n",
        "    self.fc = nn.Linear(self.d*hidden_dim, output_size)\n",
        "\n",
        "  def forward(self, x):\n",
        "    batch_size = x.size(0)\n",
        "    hidden = torch.randn(self.d*self.n_layers, batch_size, self.hidden_dim).to(device)\n",
        "    cell = torch.randn(self.d*self.n_layers, batch_size, self.hidden_dim).to(device)\n",
        "    out, (_, _) = self.lstm(x, (hidden, cell))\n",
        "    out = self.fc(out)\n",
        "    out = torch.transpose(out, 1, 2)\n",
        "\n",
        "    # out = out.contiguous().view(-1, self.hidden_dim)\n",
        "    # out = self.fc(out)\n",
        "\n",
        "    return out, hidden\n",
        "\n",
        "# returns list of prediction. puz_seq is a tensor of the puzzle (eg. 1x81 for a 9x9 puzzle)\n",
        "def predict(model, puz_seq):\n",
        "    out, _ = model(puz_seq)\n",
        "    out = torch.nn.functional.softmax(out, dim=1)\n",
        "    _, out = out.max(dim=1)\n",
        "    return out"
      ]
    },
    {
      "cell_type": "code",
      "execution_count": 17,
      "metadata": {
        "id": "nICRfB7_W5CK",
        "colab": {
          "base_uri": "https://localhost:8080/"
        },
        "outputId": "3e6e6735-0400-4029-ed96-9d9d1a891c90"
      },
      "outputs": [
        {
          "output_type": "stream",
          "name": "stdout",
          "text": [
            "Using GPU\n"
          ]
        }
      ],
      "source": [
        "# Init model\n",
        "lstmModel = LSTMModel(input_size=v, output_size=v, hidden_dim=100, n_layers=3, bi=True)\n",
        "if is_cuda:\n",
        "  lstmModel.cuda()\n",
        "  print(\"Using GPU\")\n",
        "else:\n",
        "  print(\"Using CPU\")\n",
        "\n",
        "# Hyperparameters\n",
        "n_epochs = 100\n",
        "lr = 0.01 # initial learning rate. learning rate decreases by exp decay\n",
        "decay_rate = 0.998\n",
        "\n",
        "# Loss and optimizer\n",
        "criterion = nn.CrossEntropyLoss()\n",
        "optimizer = torch.optim.Adam(lstmModel.parameters(), lr=lr)\n",
        "\n",
        "# Scheduler facilitates exponential decay of learning rate over epochs\n",
        "lr_sched = torch.optim.lr_scheduler.ExponentialLR(optimizer, decay_rate)"
      ]
    },
    {
      "cell_type": "code",
      "execution_count": 19,
      "metadata": {
        "id": "_L_gIXuDW4zv",
        "colab": {
          "base_uri": "https://localhost:8080/"
        },
        "outputId": "d5696e46-bafe-4634-de86-19b49f7887ab"
      },
      "outputs": [
        {
          "output_type": "stream",
          "name": "stdout",
          "text": [
            "Epoch: 1/100..........\n",
            "Loss: 1.1196\n",
            "Epoch: 2/100..........\n",
            "Loss: 1.1414\n",
            "Epoch: 3/100..........\n",
            "Loss: 1.0890\n",
            "Epoch: 4/100..........\n",
            "Loss: 1.1274\n",
            "Epoch: 5/100..........\n",
            "Loss: 1.0372\n",
            "Epoch: 6/100..........\n",
            "Loss: 0.9814\n",
            "Epoch: 7/100..........\n",
            "Loss: 0.9392\n",
            "Epoch: 8/100..........\n",
            "Loss: 0.9158\n",
            "Epoch: 9/100..........\n",
            "Loss: 0.8743\n",
            "Epoch: 10/100..........\n",
            "Loss: 0.8567\n",
            "Epoch: 11/100..........\n",
            "Loss: 0.7972\n",
            "Epoch: 12/100..........\n",
            "Loss: 0.7642\n",
            "Epoch: 13/100..........\n",
            "Loss: 0.7640\n",
            "Epoch: 14/100..........\n",
            "Loss: 0.7339\n",
            "Epoch: 15/100..........\n",
            "Loss: 0.6927\n",
            "Epoch: 16/100..........\n",
            "Loss: 0.6627\n",
            "Epoch: 17/100..........\n",
            "Loss: 0.6430\n",
            "Epoch: 18/100..........\n",
            "Loss: 0.6471\n",
            "Epoch: 19/100..........\n",
            "Loss: 0.6059\n",
            "Epoch: 20/100..........\n",
            "Loss: 0.6408\n",
            "Epoch: 21/100..........\n",
            "Loss: 0.6053\n",
            "Epoch: 22/100..........\n",
            "Loss: 0.5667\n",
            "Epoch: 23/100..........\n",
            "Loss: 0.5520\n",
            "Epoch: 24/100..........\n",
            "Loss: 0.5327\n",
            "Epoch: 25/100..........\n",
            "Loss: 0.5719\n",
            "Epoch: 26/100..........\n",
            "Loss: 0.5100\n",
            "Epoch: 27/100..........\n",
            "Loss: 0.4917\n",
            "Epoch: 28/100..........\n",
            "Loss: 0.5463\n",
            "Epoch: 29/100..........\n",
            "Loss: 0.4693\n",
            "Epoch: 30/100..........\n",
            "Loss: 0.4555\n",
            "Epoch: 31/100..........\n",
            "Loss: 0.4505\n",
            "Epoch: 32/100..........\n",
            "Loss: 0.4405\n",
            "Epoch: 33/100..........\n",
            "Loss: 0.4713\n",
            "Epoch: 34/100..........\n",
            "Loss: 0.4218\n",
            "Epoch: 35/100..........\n",
            "Loss: 0.4126\n",
            "Epoch: 36/100..........\n",
            "Loss: 0.4441\n",
            "Epoch: 37/100..........\n",
            "Loss: 0.4068\n",
            "Epoch: 38/100..........\n",
            "Loss: 0.4092\n",
            "Epoch: 39/100..........\n",
            "Loss: 0.4421\n",
            "Epoch: 40/100..........\n",
            "Loss: 0.4312\n",
            "Epoch: 41/100..........\n",
            "Loss: 0.3887\n",
            "Epoch: 42/100..........\n",
            "Loss: 0.3944\n",
            "Epoch: 43/100..........\n",
            "Loss: 0.3861\n",
            "Epoch: 44/100..........\n",
            "Loss: 0.3799\n",
            "Epoch: 45/100..........\n",
            "Loss: 0.3814\n",
            "Epoch: 46/100..........\n",
            "Loss: 0.3766\n",
            "Epoch: 47/100..........\n",
            "Loss: 0.3729\n",
            "Epoch: 48/100..........\n",
            "Loss: 0.3698\n",
            "Epoch: 49/100..........\n",
            "Loss: 0.3749\n",
            "Epoch: 50/100..........\n",
            "Loss: 0.3657\n",
            "Epoch: 51/100..........\n",
            "Loss: 0.3672\n",
            "Epoch: 52/100..........\n",
            "Loss: 0.3681\n",
            "Epoch: 53/100..........\n",
            "Loss: 0.3686\n",
            "Epoch: 54/100..........\n",
            "Loss: 0.3588\n",
            "Epoch: 55/100..........\n",
            "Loss: 0.3636\n",
            "Epoch: 56/100..........\n",
            "Loss: 0.3605\n",
            "Epoch: 57/100..........\n",
            "Loss: 0.3621\n",
            "Epoch: 58/100..........\n",
            "Loss: 0.3581\n",
            "Epoch: 59/100..........\n",
            "Loss: 0.3557\n",
            "Epoch: 60/100..........\n",
            "Loss: 0.3540\n",
            "Epoch: 61/100..........\n",
            "Loss: 0.3536\n",
            "Epoch: 62/100..........\n",
            "Loss: 0.3544\n",
            "Epoch: 63/100..........\n",
            "Loss: 0.3537\n",
            "Epoch: 64/100..........\n",
            "Loss: 0.3536\n",
            "Epoch: 65/100..........\n",
            "Loss: 0.3487\n",
            "Epoch: 66/100..........\n",
            "Loss: 0.3482\n",
            "Epoch: 67/100..........\n",
            "Loss: 0.4021\n",
            "Epoch: 68/100..........\n",
            "Loss: 0.3513\n",
            "Epoch: 69/100..........\n",
            "Loss: 0.3494\n",
            "Epoch: 70/100..........\n",
            "Loss: 0.3551\n",
            "Epoch: 71/100..........\n",
            "Loss: 0.3508\n",
            "Epoch: 72/100..........\n",
            "Loss: 0.3509\n",
            "Epoch: 73/100..........\n",
            "Loss: 0.3511\n",
            "Epoch: 74/100..........\n",
            "Loss: 0.3485\n",
            "Epoch: 75/100..........\n",
            "Loss: 0.3836\n",
            "Epoch: 76/100..........\n",
            "Loss: 0.3994\n",
            "Epoch: 77/100..........\n",
            "Loss: 0.3478\n",
            "Epoch: 78/100..........\n",
            "Loss: 0.3463\n",
            "Epoch: 79/100..........\n",
            "Loss: 0.3499\n",
            "Epoch: 80/100..........\n",
            "Loss: 0.3475\n",
            "Epoch: 81/100..........\n",
            "Loss: 0.3460\n",
            "Epoch: 82/100..........\n",
            "Loss: 0.3494\n",
            "Epoch: 83/100..........\n",
            "Loss: 0.3441\n",
            "Epoch: 84/100..........\n",
            "Loss: 0.3466\n",
            "Epoch: 85/100..........\n",
            "Loss: 0.3441\n",
            "Epoch: 86/100..........\n",
            "Loss: 0.3459\n",
            "Epoch: 87/100..........\n",
            "Loss: 0.3461\n",
            "Epoch: 88/100..........\n",
            "Loss: 0.3476\n",
            "Epoch: 89/100..........\n",
            "Loss: 0.3435\n",
            "Epoch: 90/100..........\n",
            "Loss: 0.3414\n",
            "Epoch: 91/100..........\n",
            "Loss: 0.3444\n",
            "Epoch: 92/100..........\n",
            "Loss: 0.3437\n",
            "Epoch: 93/100..........\n",
            "Loss: 0.3454\n",
            "Epoch: 94/100..........\n",
            "Loss: 0.3423\n",
            "Epoch: 95/100..........\n",
            "Loss: 0.3452\n",
            "Epoch: 96/100..........\n",
            "Loss: 0.3433\n",
            "Epoch: 97/100..........\n",
            "Loss: 0.3435\n",
            "Epoch: 98/100..........\n",
            "Loss: 0.3448\n",
            "Epoch: 99/100..........\n",
            "Loss: 0.3429\n",
            "Epoch: 100/100..........\n",
            "Loss: 0.3392\n"
          ]
        }
      ],
      "source": [
        "# Begin training\n",
        "losses = []\n",
        "for epoch in range(1, n_epochs + 1):\n",
        "  for tx_bat, ty_bat in zip(tx_seq, ty_seq):\n",
        "    tx_bat = tx_bat.to(device)\n",
        "    ty_bat = ty_bat.to(device)\n",
        "    optimizer.zero_grad()\n",
        "    output, hidden = lstmModel(tx_bat)\n",
        "    #loss = criterion(output, ty_seq.view(-1).long())\n",
        "    loss = criterion(output, ty_bat.long())\n",
        "    loss.backward()\n",
        "    optimizer.step()\n",
        "    lr_sched.step()\n",
        "\n",
        "  losses.append(loss.item())\n",
        "  if epoch % 1 == 0: \n",
        "    print(\"Epoch: {}/{}..........\".format(epoch, n_epochs))\n",
        "    #print(\"Learning Rate:\", lr_sched.get_last_lr())\n",
        "    print(\"Loss: {:.4f}\".format(loss.item()))"
      ]
    },
    {
      "cell_type": "code",
      "execution_count": 20,
      "metadata": {
        "id": "Ki3k7Iu-XA_G",
        "colab": {
          "base_uri": "https://localhost:8080/",
          "height": 312
        },
        "outputId": "29f74e1e-37e4-43c5-f9ab-85f2d789e47c"
      },
      "outputs": [
        {
          "output_type": "execute_result",
          "data": {
            "text/plain": [
              "Text(0, 0.5, 'Cross Entropy Loss')"
            ]
          },
          "metadata": {},
          "execution_count": 20
        },
        {
          "output_type": "display_data",
          "data": {
            "text/plain": [
              "<Figure size 432x288 with 1 Axes>"
            ],
            "image/png": "[encoded data removed]"
          },
          "metadata": {
            "needs_background": "light"
          }
        }
      ],
      "source": [
        "plt.plot(range(1, n_epochs + 1), losses)\n",
        "plt.title(\"Bidirectional LSTM Train Loss\")\n",
        "plt.xlabel(\"Epoch\")\n",
        "plt.ylabel(\"Cross Entropy Loss\")"
      ]
    },
    {
      "cell_type": "code",
      "execution_count": null,
      "metadata": {
        "id": "1SqUeeEah0_M"
      },
      "outputs": [],
      "source": [
        ""
      ]
    },
    {
      "cell_type": "markdown",
      "metadata": {
        "id": "rlpMP2RgiAdp"
      },
      "source": [
        "# 3c. Training the GRU"
      ]
    },
    {
      "cell_type": "code",
      "execution_count": null,
      "metadata": {
        "id": "usl9AtnEiAdp"
      },
      "outputs": [],
      "source": [
        "class GRUModel(nn.Module):\n",
        "  # bi - bidirectional, false by default\n",
        "  def __init__(self, input_size, output_size, hidden_dim, n_layers, bi=False):\n",
        "    super(GRUModel, self).__init__()\n",
        "\n",
        "    self.hidden_dim = hidden_dim\n",
        "    self.n_layers = n_layers\n",
        "    self.output_size = output_size\n",
        "    self.d = 2 if bi else 1\n",
        "\n",
        "    self.gru = nn.GRU(input_size, hidden_dim, n_layers, batch_first=True, bidirectional=bi)\n",
        "    self.fc = nn.Linear(self.d*hidden_dim, output_size)\n",
        "\n",
        "  def forward(self, x):\n",
        "    batch_size = x.size(0)\n",
        "    hidden = torch.randn(self.d*self.n_layers, batch_size, self.hidden_dim).to(device)\n",
        "    out, _ = self.gru(x, hidden)\n",
        "    out = self.fc(out)\n",
        "    out = torch.transpose(out, 1, 2)\n",
        "\n",
        "    # out = out.contiguous().view(-1, self.hidden_dim)\n",
        "    # out = self.fc(out)\n",
        "\n",
        "    return out, hidden\n",
        "\n",
        "# returns list of prediction. puz_seq is a tensor of the puzzle (eg. 1x81 for a 9x9 puzzle)\n",
        "def predict(model, puz_seq):\n",
        "    out, _ = model(puz_seq)\n",
        "    out = torch.nn.functional.softmax(out, dim=1)\n",
        "    _, out = out.max(dim=1)\n",
        "    return out"
      ]
    },
    {
      "cell_type": "code",
      "execution_count": null,
      "metadata": {
        "colab": {
          "base_uri": "https://localhost:8080/"
        },
        "id": "DRP52iA1iAdp",
        "outputId": "1d5643a8-db58-46b5-f336-d7c4ef9e3669"
      },
      "outputs": [
        {
          "output_type": "stream",
          "name": "stdout",
          "text": [
            "Using GPU\n"
          ]
        }
      ],
      "source": [
        "# Init model\n",
        "gruModel = GRUModel(input_size=v, output_size=v, hidden_dim=100, n_layers=2, bi=True)\n",
        "if is_cuda:\n",
        "  gruModel.cuda()\n",
        "  print(\"Using GPU\")\n",
        "else:\n",
        "  print(\"Using CPU\")\n",
        "\n",
        "# Hyperparameters\n",
        "n_epochs = 100\n",
        "lr = 0.01 # initial learning rate. learning rate decreases by exp decay\n",
        "decay_rate = 0.998\n",
        "\n",
        "# Loss and optimizer\n",
        "criterion = nn.CrossEntropyLoss()\n",
        "optimizer = torch.optim.Adam(gruModel.parameters(), lr=lr)\n",
        "\n",
        "# Scheduler facilitates exponential decay of learning rate over epochs\n",
        "lr_sched = torch.optim.lr_scheduler.ExponentialLR(optimizer, decay_rate)"
      ]
    },
    {
      "cell_type": "code",
      "execution_count": null,
      "metadata": {
        "colab": {
          "base_uri": "https://localhost:8080/"
        },
        "id": "CYpFIvhNiAdp",
        "outputId": "5eeaa661-d05a-4544-bcff-e7e2ed35717c"
      },
      "outputs": [
        {
          "output_type": "stream",
          "name": "stdout",
          "text": [
            "Epoch: 1/100..........\n",
            "Loss: 1.2465\n",
            "Epoch: 2/100..........\n",
            "Loss: 1.2022\n",
            "Epoch: 3/100..........\n",
            "Loss: 1.1713\n",
            "Epoch: 4/100..........\n",
            "Loss: 1.1449\n",
            "Epoch: 5/100..........\n",
            "Loss: 1.1239\n",
            "Epoch: 6/100..........\n",
            "Loss: 1.1002\n",
            "Epoch: 7/100..........\n",
            "Loss: 1.0670\n",
            "Epoch: 8/100..........\n",
            "Loss: 1.0592\n",
            "Epoch: 9/100..........\n",
            "Loss: 1.1452\n",
            "Epoch: 10/100..........\n",
            "Loss: 1.0404\n",
            "Epoch: 11/100..........\n",
            "Loss: 0.9730\n",
            "Epoch: 12/100..........\n",
            "Loss: 0.9803\n",
            "Epoch: 13/100..........\n",
            "Loss: 0.9309\n",
            "Epoch: 14/100..........\n",
            "Loss: 0.9111\n",
            "Epoch: 15/100..........\n",
            "Loss: 0.8231\n",
            "Epoch: 16/100..........\n",
            "Loss: 0.7824\n",
            "Epoch: 17/100..........\n",
            "Loss: 0.7503\n",
            "Epoch: 18/100..........\n",
            "Loss: 0.7023\n",
            "Epoch: 19/100..........\n",
            "Loss: 0.6735\n",
            "Epoch: 20/100..........\n",
            "Loss: 0.6353\n",
            "Epoch: 21/100..........\n",
            "Loss: 0.5989\n",
            "Epoch: 22/100..........\n",
            "Loss: 0.5954\n",
            "Epoch: 23/100..........\n",
            "Loss: 0.5539\n",
            "Epoch: 24/100..........\n",
            "Loss: 0.5323\n",
            "Epoch: 25/100..........\n",
            "Loss: 0.5090\n",
            "Epoch: 26/100..........\n",
            "Loss: 0.4865\n",
            "Epoch: 27/100..........\n",
            "Loss: 0.4706\n",
            "Epoch: 28/100..........\n",
            "Loss: 0.4556\n",
            "Epoch: 29/100..........\n",
            "Loss: 0.4430\n",
            "Epoch: 30/100..........\n",
            "Loss: 0.4331\n",
            "Epoch: 31/100..........\n",
            "Loss: 0.4189\n",
            "Epoch: 32/100..........\n",
            "Loss: 0.4062\n",
            "Epoch: 33/100..........\n",
            "Loss: 0.4058\n",
            "Epoch: 34/100..........\n",
            "Loss: 0.3894\n",
            "Epoch: 35/100..........\n",
            "Loss: 0.4077\n",
            "Epoch: 36/100..........\n",
            "Loss: 0.3704\n",
            "Epoch: 37/100..........\n",
            "Loss: 0.3644\n",
            "Epoch: 38/100..........\n",
            "Loss: 0.3621\n",
            "Epoch: 39/100..........\n",
            "Loss: 0.3572\n",
            "Epoch: 40/100..........\n",
            "Loss: 0.3463\n",
            "Epoch: 41/100..........\n",
            "Loss: 0.3478\n",
            "Epoch: 42/100..........\n",
            "Loss: 0.3408\n",
            "Epoch: 43/100..........\n",
            "Loss: 0.3364\n",
            "Epoch: 44/100..........\n",
            "Loss: 0.3528\n",
            "Epoch: 45/100..........\n",
            "Loss: 0.3287\n",
            "Epoch: 46/100..........\n",
            "Loss: 0.3294\n",
            "Epoch: 47/100..........\n",
            "Loss: 0.3245\n",
            "Epoch: 48/100..........\n",
            "Loss: 0.3217\n",
            "Epoch: 49/100..........\n",
            "Loss: 0.3254\n",
            "Epoch: 50/100..........\n",
            "Loss: 0.3157\n",
            "Epoch: 51/100..........\n",
            "Loss: 0.3201\n",
            "Epoch: 52/100..........\n",
            "Loss: 0.3106\n",
            "Epoch: 53/100..........\n",
            "Loss: 0.3076\n",
            "Epoch: 54/100..........\n",
            "Loss: 0.3085\n",
            "Epoch: 55/100..........\n",
            "Loss: 0.3061\n",
            "Epoch: 56/100..........\n",
            "Loss: 0.3066\n",
            "Epoch: 57/100..........\n",
            "Loss: 0.3089\n",
            "Epoch: 58/100..........\n",
            "Loss: 0.3093\n",
            "Epoch: 59/100..........\n",
            "Loss: 0.3031\n",
            "Epoch: 60/100..........\n",
            "Loss: 0.3292\n",
            "Epoch: 61/100..........\n",
            "Loss: 0.2965\n",
            "Epoch: 62/100..........\n",
            "Loss: 0.3033\n",
            "Epoch: 63/100..........\n",
            "Loss: 0.3014\n",
            "Epoch: 64/100..........\n",
            "Loss: 0.3010\n",
            "Epoch: 65/100..........\n",
            "Loss: 0.2979\n",
            "Epoch: 66/100..........\n",
            "Loss: 0.3278\n",
            "Epoch: 67/100..........\n",
            "Loss: 0.3022\n",
            "Epoch: 68/100..........\n",
            "Loss: 0.2982\n",
            "Epoch: 69/100..........\n",
            "Loss: 0.2962\n",
            "Epoch: 70/100..........\n",
            "Loss: 0.2993\n",
            "Epoch: 71/100..........\n",
            "Loss: 0.2984\n",
            "Epoch: 72/100..........\n",
            "Loss: 0.3047\n",
            "Epoch: 73/100..........\n",
            "Loss: 0.2945\n",
            "Epoch: 74/100..........\n",
            "Loss: 0.2951\n",
            "Epoch: 75/100..........\n",
            "Loss: 0.2940\n",
            "Epoch: 76/100..........\n",
            "Loss: 0.2958\n",
            "Epoch: 77/100..........\n",
            "Loss: 0.2956\n",
            "Epoch: 78/100..........\n",
            "Loss: 0.2931\n",
            "Epoch: 79/100..........\n",
            "Loss: 0.2971\n",
            "Epoch: 80/100..........\n",
            "Loss: 0.2961\n",
            "Epoch: 81/100..........\n",
            "Loss: 0.3058\n",
            "Epoch: 82/100..........\n",
            "Loss: 0.2908\n",
            "Epoch: 83/100..........\n",
            "Loss: 0.2949\n",
            "Epoch: 84/100..........\n",
            "Loss: 0.2906\n",
            "Epoch: 85/100..........\n",
            "Loss: 0.2921\n",
            "Epoch: 86/100..........\n",
            "Loss: 0.2893\n",
            "Epoch: 87/100..........\n",
            "Loss: 0.2963\n",
            "Epoch: 88/100..........\n",
            "Loss: 0.2903\n",
            "Epoch: 89/100..........\n",
            "Loss: 0.2895\n",
            "Epoch: 90/100..........\n",
            "Loss: 0.2941\n",
            "Epoch: 91/100..........\n",
            "Loss: 0.2897\n",
            "Epoch: 92/100..........\n",
            "Loss: 0.2935\n",
            "Epoch: 93/100..........\n",
            "Loss: 0.3162\n",
            "Epoch: 94/100..........\n",
            "Loss: 0.2869\n",
            "Epoch: 95/100..........\n",
            "Loss: 0.2956\n",
            "Epoch: 96/100..........\n",
            "Loss: 0.2905\n",
            "Epoch: 97/100..........\n",
            "Loss: 0.2903\n",
            "Epoch: 98/100..........\n",
            "Loss: 0.3026\n",
            "Epoch: 99/100..........\n",
            "Loss: 0.3070\n",
            "Epoch: 100/100..........\n",
            "Loss: 0.2932\n"
          ]
        }
      ],
      "source": [
        "# Begin training\n",
        "losses = []\n",
        "for epoch in range(1, n_epochs + 1):\n",
        "  for tx_bat, ty_bat in zip(tx_seq, ty_seq):\n",
        "    tx_bat = tx_bat.to(device)\n",
        "    ty_bat = ty_bat.to(device)\n",
        "    optimizer.zero_grad()\n",
        "    output, hidden = gruModel(tx_bat)\n",
        "    #loss = criterion(output, ty_seq.view(-1).long())\n",
        "    loss = criterion(output, ty_bat.long())\n",
        "    loss.backward()\n",
        "    optimizer.step()\n",
        "    lr_sched.step()\n",
        "\n",
        "  losses.append(loss.item())\n",
        "  if epoch % 1 == 0: \n",
        "    print(\"Epoch: {}/{}..........\".format(epoch, n_epochs))\n",
        "    #print(\"Learning Rate:\", lr_sched.get_last_lr())\n",
        "    print(\"Loss: {:.4f}\".format(loss.item()))"
      ]
    },
    {
      "cell_type": "code",
      "execution_count": null,
      "metadata": {
        "colab": {
          "base_uri": "https://localhost:8080/",
          "height": 312
        },
        "id": "9IIQ-AMgiAdq",
        "outputId": "ea5d7429-41d3-4ace-b631-649c1af2b4a5"
      },
      "outputs": [
        {
          "output_type": "execute_result",
          "data": {
            "text/plain": [
              "Text(0, 0.5, 'Cross Entropy Loss')"
            ]
          },
          "metadata": {},
          "execution_count": 67
        },
        {
          "output_type": "display_data",
          "data": {
            "text/plain": [
              "<Figure size 432x288 with 1 Axes>"
            ],
            "image/png": "[encoded data removed]"
          },
          "metadata": {
            "needs_background": "light"
          }
        }
      ],
      "source": [
        "plt.plot(range(1, n_epochs + 1), losses)\n",
        "plt.title(\"Bi-directional GRU Train Loss\")\n",
        "plt.xlabel(\"Epoch\")\n",
        "plt.ylabel(\"Cross Entropy Loss\")"
      ]
    },
    {
      "cell_type": "markdown",
      "metadata": {
        "id": "FYOv8dXk26-p"
      },
      "source": [
        "#4. Testing and Evaluation"
      ]
    },
    {
      "cell_type": "code",
      "source": [
        "# no of parameters in model\n",
        "print(sum(param.numel() for param in lstmModel.parameters() if param.requires_grad))"
      ],
      "metadata": {
        "colab": {
          "base_uri": "https://localhost:8080/"
        },
        "id": "s7bHVj6yFdgI",
        "outputId": "b33a96c2-206f-4a89-dd1b-56311cc5f6eb"
      },
      "execution_count": 21,
      "outputs": [
        {
          "output_type": "stream",
          "name": "stdout",
          "text": [
            "574810\n"
          ]
        }
      ]
    },
    {
      "cell_type": "code",
      "execution_count": 22,
      "metadata": {
        "id": "wXCNl0PjyOQl"
      },
      "outputs": [],
      "source": [
        "puz_seq = one_hot_encode(dev_x, v, puz_dim, batch_size)\n",
        "ans_seq = torch.split(torch.Tensor(dev_y), batch_size)\n",
        "\n",
        "pred = []\n",
        "for dx_bat in puz_seq:\n",
        "  dx_bat = dx_bat.to(device)\n",
        "  pred.append(predict(lstmModel, dx_bat.float()).cpu())\n",
        "\n",
        "pred = np.concatenate(pred)"
      ]
    },
    {
      "cell_type": "code",
      "execution_count": 23,
      "metadata": {
        "colab": {
          "base_uri": "https://localhost:8080/"
        },
        "id": "rRhI71kmOAkv",
        "outputId": "07f02247-73b9-4a39-d040-0002012bd613"
      },
      "outputs": [
        {
          "output_type": "stream",
          "name": "stdout",
          "text": [
            "(10001, 81)\n",
            "(10001, 81)\n"
          ]
        }
      ],
      "source": [
        "print(np.shape(pred))\n",
        "print(np.shape(dev_x))"
      ]
    },
    {
      "cell_type": "code",
      "execution_count": 24,
      "metadata": {
        "colab": {
          "base_uri": "https://localhost:8080/"
        },
        "id": "i6LO7TLb4hae",
        "outputId": "19974479-06a1-4527-af93-d91cc4f8217f"
      },
      "outputs": [
        {
          "output_type": "stream",
          "name": "stdout",
          "text": [
            "68.0406033470727 %\n"
          ]
        }
      ],
      "source": [
        "# Evaluate on train set\n",
        "num_total = len(train_x) * 81 # total number of cells across entire set\n",
        "puz_seq = one_hot_encode(train_x, v, puz_dim, batch_size)\n",
        "\n",
        "t_pred = []\n",
        "for tx_bat in puz_seq:\n",
        "  tx_bat = tx_bat.to(device)\n",
        "  t_pred.append(predict(lstmModel, tx_bat.float()).cpu())\n",
        "t_pred = np.concatenate(t_pred)\n",
        "\n",
        "num_correct = (t_pred == train_y).sum().item()\n",
        "print(num_correct/num_total*100,\"%\")"
      ]
    },
    {
      "cell_type": "code",
      "execution_count": 25,
      "metadata": {
        "id": "o0tGb2L7VFA8",
        "colab": {
          "base_uri": "https://localhost:8080/"
        },
        "outputId": "e28fa02d-0e9d-4d3f-bb69-caf7cccc8ee0"
      },
      "outputs": [
        {
          "output_type": "stream",
          "name": "stdout",
          "text": [
            "64.93819753827086 %\n"
          ]
        }
      ],
      "source": [
        "# Evaluate on dev set\n",
        "num_total = len(dev_x) * 81 # total number of cells across entire set\n",
        "puz_seq = one_hot_encode(dev_x, v, puz_dim, batch_size)\n",
        "\n",
        "d_pred = []\n",
        "for dx_bat in puz_seq:\n",
        "  dx_bat = dx_bat.to(device)\n",
        "  d_pred.append(predict(lstmModel, dx_bat.float()).cpu())\n",
        "d_pred = np.concatenate(d_pred)\n",
        "\n",
        "num_correct = (d_pred == dev_y).sum().item()\n",
        "print(num_correct/num_total*100,\"%\")"
      ]
    },
    {
      "cell_type": "code",
      "execution_count": 26,
      "metadata": {
        "id": "rheTWswbVEqL",
        "colab": {
          "base_uri": "https://localhost:8080/"
        },
        "outputId": "bcc10586-9984-4c84-b7e9-63297d81592d"
      },
      "outputs": [
        {
          "output_type": "stream",
          "name": "stdout",
          "text": [
            "65.06086419753086 %\n"
          ]
        }
      ],
      "source": [
        "# Evaluate on test set\n",
        "num_total = len(test_x) * 81 # total number of cells across entire set\n",
        "puz_seq = one_hot_encode(test_x, v, puz_dim, batch_size)\n",
        "\n",
        "tt_pred = []\n",
        "for ttx_bat in puz_seq:\n",
        "  ttx_bat = ttx_bat.to(device)\n",
        "  tt_pred.append(predict(lstmModel, ttx_bat.float()).cpu())\n",
        "tt_pred = np.concatenate(tt_pred)\n",
        "\n",
        "num_correct = (tt_pred == test_y).sum().item()\n",
        "print(num_correct/num_total*100,\"%\")"
      ]
    },
    {
      "cell_type": "code",
      "execution_count": 27,
      "metadata": {
        "id": "uwMUnonuLiw8",
        "colab": {
          "base_uri": "https://localhost:8080/",
          "height": 295
        },
        "outputId": "bd0d13e2-6a2e-4888-8462-58fa6c3b68c9"
      },
      "outputs": [
        {
          "output_type": "display_data",
          "data": {
            "text/plain": [
              "<Figure size 432x288 with 2 Axes>"
            ],
            "image/png": "[encoded data removed]"
          },
          "metadata": {
            "needs_background": "light"
          }
        }
      ],
      "source": [
        "cf_matrix = np.round(confusion_matrix(np.array(test_y).reshape(-1), tt_pred.reshape(-1)) / (len(test_x)*81) * 100, 2)\n",
        "ax = plt.axes()\n",
        "sns.heatmap(cf_matrix, annot=True, ax=ax)\n",
        "ax.set_title(\"% Occurence of Each Prediction-Actual Pair\")\n",
        "ax.set_xlabel(\"Predictions\")\n",
        "ax.set_ylabel(\"Actuals\")\n",
        "plt.show()"
      ]
    },
    {
      "cell_type": "code",
      "execution_count": 28,
      "metadata": {
        "id": "nnUIufl1oBOc",
        "colab": {
          "base_uri": "https://localhost:8080/"
        },
        "outputId": "a7cc5487-7db5-4eef-f56c-2f731eba3a37"
      },
      "outputs": [
        {
          "output_type": "stream",
          "name": "stdout",
          "text": [
            "prompt: [0, 0, 7, 8, 0, 3, 0, 0, 0, 0, 0, 1, 0, 6, 0, 0, 0, 2, 8, 3, 0, 0, 5, 0, 0, 0, 4, 0, 2, 0, 0, 7, 0, 9, 0, 5, 5, 0, 0, 0, 0, 0, 1, 2, 0, 0, 0, 0, 0, 9, 0, 0, 3, 0, 1, 0, 5, 4, 0, 2, 0, 0, 8, 0, 9, 0, 6, 0, 0, 0, 0, 0, 0, 7, 3, 5, 8, 0, 4, 6, 1]\n",
            "pred: [4, 6, 7, 8, 2, 3, 1, 1, 5, 5, 4, 1, 9, 6, 9, 8, 8, 2, 8, 3, 6, 2, 5, 2, 7, 6, 4, 3, 2, 3, 1, 7, 1, 9, 4, 5, 5, 9, 9, 8, 3, 3, 1, 2, 7, 6, 7, 7, 5, 9, 2, 8, 3, 6, 1, 6, 5, 4, 9, 2, 7, 3, 8, 8, 9, 8, 6, 1, 1, 5, 5, 5, 2, 7, 3, 5, 8, 9, 4, 6, 1]\n",
            "gold: [6, 4, 7, 8, 2, 3, 5, 1, 9, 9, 5, 1, 7, 6, 4, 3, 8, 2, 8, 3, 2, 9, 5, 1, 6, 7, 4, 3, 2, 6, 1, 7, 8, 9, 4, 5, 5, 8, 9, 3, 4, 6, 1, 2, 7, 7, 1, 4, 2, 9, 5, 8, 3, 6, 1, 6, 5, 4, 3, 2, 7, 9, 8, 4, 9, 8, 6, 1, 7, 2, 5, 3, 2, 7, 3, 5, 8, 9, 4, 6, 1]\n"
          ]
        }
      ],
      "source": [
        "# examine the first test prediction and gold value\n",
        "print(\"prompt:\", test_x[0])\n",
        "print(\"pred:\", list(tt_pred[0]))\n",
        "print(\"gold:\", test_y[0])"
      ]
    },
    {
      "cell_type": "code",
      "source": [
        ""
      ],
      "metadata": {
        "id": "sCNbkjBrhb5L"
      },
      "execution_count": 28,
      "outputs": []
    }
  ],
  "metadata": {
    "colab": {
      "collapsed_sections": [
        "kgf1Ih3KQH5_",
        "inal_lOZQR_j",
        "KII-e9eOQDxu",
        "rlpMP2RgiAdp"
      ],
      "name": "Independent Work S22 Testing.ipynb",
      "provenance": [],
      "machine_shape": "hm",
      "include_colab_link": true
    },
    "kernelspec": {
      "display_name": "Python 3",
      "name": "python3"
    },
    "language_info": {
      "name": "python"
    },
    "accelerator": "GPU"
  },
  "nbformat": 4,
  "nbformat_minor": 0
}